{
  "cells": [
    {
      "cell_type": "markdown",
      "metadata": {
        "id": "view-in-github",
        "colab_type": "text"
      },
      "source": [
        "<a href=\"https://colab.research.google.com/github/DaphneNg07/Blockchain-simulation/blob/main/Group_Assignment_Python.ipynb\" target=\"_parent\"><img src=\"https://colab.research.google.com/assets/colab-badge.svg\" alt=\"Open In Colab\"/></a>"
      ]
    },
    {
      "cell_type": "code",
      "execution_count": null,
      "metadata": {
        "id": "Xvx83fEipIaC"
      },
      "outputs": [],
      "source": [
        "\n",
        "# =============================================================================\n",
        "# Task 0:  Importing the data. (@Tanmay)\n",
        "# =============================================================================\n",
        "\n",
        "## Step 1: Download the loan_account_statment.json.\n",
        "\n",
        "# importing the neccessary libraries :\n",
        "import io\n",
        "import json as json\n",
        "import csv\n",
        "from google.colab import files\n",
        "import time\n",
        "import hashlib as _hashlib\n",
        "import datetime\n",
        "import random\n"
      ]
    },
    {
      "cell_type": "code",
      "execution_count": null,
      "metadata": {
        "id": "gWNQoSsBvpV-"
      },
      "outputs": [],
      "source": [
        "## Step 2: Import the loan_account_statment.json file in Python\n",
        "\n",
        "with open(\"/content/loan_account_statements.json\") as f:\n",
        "\n",
        "\n",
        "     json_to_list = json.load(f)"
      ]
    },
    {
      "cell_type": "markdown",
      "metadata": {
        "id": "D4K_BlDJDemN"
      },
      "source": []
    },
    {
      "cell_type": "code",
      "execution_count": null,
      "metadata": {
        "colab": {
          "base_uri": "https://localhost:8080/"
        },
        "id": "dn56oNk1sRnA",
        "outputId": "c0f60d0e-68c4-4e27-e735-aa2f850d36ce"
      },
      "outputs": [
        {
          "output_type": "stream",
          "name": "stdout",
          "text": [
            "First Account :  {'Loan Account Number': 713523375, 'Loan Holder': 'Natasha Cruz', 'Loan Amount': 33045.73, 'Loan Term': '5 years', 'Annual Interest Rate': '8.0%', 'Monthly Payment': 670.05, 'Loan Start Date': 'September 20, 2021', 'Payment Details for Month': {'Month Number': 41, 'Payment Due Date': 'February 01, 2025', 'Beginning Loan Balance': 33045.73, 'Interest Due': 220.3, 'Principal Payment': 449.75, 'Total Payment': 670.05}, 'Loan Summary': {'Total Number of Payments': 60, 'Total Interest Paid': 13218.29, 'Total Principal Paid': 19827.44, 'Total Amount Paid': 33045.73}, 'Remaining Loan Balance': {'Remaining Principal Balance after Month': 41, 'Balance Amount': 32595.98}, 'Message': 'Please make the payment of $670.05 by the due date to keep your loan in good standing. If you have any questions or need assistance, please contact our customer service at +446743771562 or customer_service@onenationbank.com. Thank you for choosing One Nation Bank Group for your lending needs.'}\n",
            "Second Account :  {'Loan Account Number': 627713850, 'Loan Holder': 'Michael Bradford', 'Loan Amount': 29579.06, 'Loan Term': '4 years', 'Annual Interest Rate': '9.33%', 'Monthly Payment': 740.72, 'Loan Start Date': 'September 01, 2021', 'Payment Details for Month': {'Month Number': 13, 'Payment Due Date': 'September 26, 2022', 'Beginning Loan Balance': 29579.06, 'Interest Due': 229.98, 'Principal Payment': 510.74, 'Total Payment': 740.72}, 'Loan Summary': {'Total Number of Payments': 48, 'Total Interest Paid': 11038.91, 'Total Principal Paid': 18540.15, 'Total Amount Paid': 29579.06}, 'Remaining Loan Balance': {'Remaining Principal Balance after Month': 13, 'Balance Amount': 29068.32}, 'Message': 'Please make the payment of $740.72 by the due date to keep your loan in good standing. If you have any questions or need assistance, please contact our customer service at +446743771562 or customer_service@onenationbank.com. Thank you for choosing One Nation Bank Group for your lending needs.'}\n"
          ]
        }
      ],
      "source": [
        "## Step 3: View the data of 1st account\n",
        "print(\"First Account : \", json_to_list[0])\n",
        "\n",
        "\n",
        "## Step 4: View the data of 2nd account\n",
        "print(\"Second Account : \", json_to_list[1])"
      ]
    },
    {
      "cell_type": "code",
      "execution_count": null,
      "metadata": {
        "colab": {
          "base_uri": "https://localhost:8080/"
        },
        "id": "ZSkRypSqd1OM",
        "outputId": "a8985b21-83f4-471d-e93c-ec0986a5ad1d"
      },
      "outputs": [
        {
          "output_type": "stream",
          "name": "stdout",
          "text": [
            "<class 'list'>\n"
          ]
        }
      ],
      "source": [
        "# Converting the data from list to dictionary\n",
        "print(type(json_to_list))"
      ]
    },
    {
      "cell_type": "markdown",
      "metadata": {
        "id": "tAaRXjTUt72v"
      },
      "source": [
        "\n"
      ]
    },
    {
      "cell_type": "code",
      "execution_count": null,
      "metadata": {
        "colab": {
          "base_uri": "https://localhost:8080/"
        },
        "id": "dTZILa4ztDth",
        "outputId": "0ae75ae6-09d8-4605-f097-2c11b9a2a17c"
      },
      "outputs": [
        {
          "output_type": "stream",
          "name": "stdout",
          "text": [
            "['Loan Account Number', 'Loan Holder', 'Loan Amount', 'Loan Term', 'Annual Interest Rate', 'Monthly Payment', 'Loan Start Date', 'Payment Details for Month', 'Loan Summary', 'Remaining Loan Balance', 'Message']\n"
          ]
        }
      ],
      "source": [
        "## Step 5: View the keys of dictionary of 1st account\n",
        "print(list(json_to_list[0].keys()))"
      ]
    },
    {
      "cell_type": "code",
      "execution_count": null,
      "metadata": {
        "colab": {
          "base_uri": "https://localhost:8080/"
        },
        "id": "jU7S8W7w11uU",
        "outputId": "fe0b59cd-edd2-4316-a5c3-1cdf25f19394"
      },
      "outputs": [
        {
          "output_type": "execute_result",
          "data": {
            "text/plain": [
              "6745"
            ]
          },
          "metadata": {},
          "execution_count": 11
        }
      ],
      "source": [
        "# 1) Find the number of accounts in the dataset. (@Tanmay)\n",
        "len(json_to_list)"
      ]
    },
    {
      "cell_type": "code",
      "execution_count": null,
      "metadata": {
        "colab": {
          "base_uri": "https://localhost:8080/"
        },
        "id": "yIm0hR3HaZMm",
        "outputId": "599e74c9-0f23-4c78-8950-099040f917b2"
      },
      "outputs": [
        {
          "output_type": "stream",
          "name": "stdout",
          "text": [
            "The keys are identical.\n"
          ]
        }
      ],
      "source": [
        "# =============================================================================\n",
        "##Task A : Total number of accounts and compare dictionary keys\n",
        "# =============================================================================\n",
        "# 2) Write a For or While loop to compare the keys in the dictionary of each account. Find whether the keys of dictionary are the identical or not identical.(@Daphne)\n",
        "#Store keys of the first dictionary into set\n",
        "dict_1 = json_to_list[0]\n",
        "keys_i = set(dict_1.keys())\n",
        "#Set initial condition to compare keys\n",
        "identical_keys = True\n",
        "#Iterate comparision with the fist dictionary from the second one onwards\n",
        "for dictionary in json_to_list[1:]:\n",
        "    if set(dictionary.keys()) != keys_i:\n",
        "        identical_keys = False\n",
        "        break\n",
        "#Print the results\n",
        "if identical_keys:\n",
        "    print(\"The keys are identical.\")\n",
        "else:\n",
        "    print(\"The keys are not identical.\")"
      ]
    },
    {
      "cell_type": "code",
      "execution_count": null,
      "metadata": {
        "colab": {
          "base_uri": "https://localhost:8080/"
        },
        "id": "CJkz35O01Gdp",
        "outputId": "375eb2c2-7d46-4d0e-932f-7e6df5017664"
      },
      "outputs": [
        {
          "output_type": "stream",
          "name": "stdout",
          "text": [
            "Enter a new key: 11\n",
            "The key '11' does not exist in the dictionary.\n"
          ]
        }
      ],
      "source": [
        "#Exceptional handling\n",
        "try:\n",
        "    # Get user input for a new key\n",
        "    new_key = input(\"Enter a new key: \")\n",
        "\n",
        "    # Check if the key already exists in the dictionary (ignoring case)\n",
        "    existing_keys = [key.lower() for key in json_to_list[0].keys()]\n",
        "    if new_key.lower() in existing_keys:\n",
        "        raise ValueError(f\"The key '{new_key}' already exists in the dictionary.\")\n",
        "\n",
        "    print(f\"The key '{new_key}' does not exist in the dictionary.\")\n",
        "\n",
        "except ValueError as x:\n",
        "    print(f\"Error: {x}\")\n",
        "except Exception as x:\n",
        "    print(f\"An unexpected error occurred: {x}\")"
      ]
    },
    {
      "cell_type": "code",
      "execution_count": null,
      "metadata": {
        "colab": {
          "base_uri": "https://localhost:8080/"
        },
        "id": "lq76xFKAczAL",
        "outputId": "a8d763b5-99d8-400a-b0ad-4c0a887c6141"
      },
      "outputs": [
        {
          "output_type": "stream",
          "name": "stdout",
          "text": [
            "0e40f0189fb34d58741ff6135db1e4cc97f46077e1f01c21d95b336334b43926\n",
            "0e40f0189fb34d58741ff6135db1e4cc97f46077e1f01c21d95b336334b43926\n",
            "b311789a666d0e33bbd5704c84ace08cfd32cd611cbdfcfeb52cf9a6a62e9e85\n",
            "Hashes are identical\n",
            "Hashes are not identical.\n"
          ]
        }
      ],
      "source": [
        "# =============================================================================\n",
        "##Task B: Compare the hash values (@Haya)\n",
        "# =============================================================================\n",
        "#defining function for hash creation :\n",
        "#Conducting exceptional handling to ensure that account number is always an integer.\n",
        "def hash(account_numb):\n",
        "  try :\n",
        "    account_numb = int(account_numb)\n",
        "    hash = _hashlib.sha256(str(json_to_list[account_numb]).encode()).hexdigest()\n",
        "    return hash\n",
        "  except ValueError:\n",
        "    raise ValueError(\"Account number should be an integer\")\n",
        "\n",
        "#Assigning \"hashvalue1\" for account 9\n",
        "hashvalue1 = hash(8)\n",
        "print(hashvalue1)\n",
        "#Assigning \"hashvalue2\" for account 9\n",
        "hashvalue2 = hash(8)\n",
        "print(hashvalue2)\n",
        "#Assigning \"hashvalue3\" for account 10\n",
        "hashvalue3 = hash(10)\n",
        "print(hashvalue3)\n",
        "\n",
        "#creating a function for comparing the hash values to see if they are identical or not.\n",
        "def comparing_hash_values(Hash1,Hash2):\n",
        "  if Hash1 == Hash2:\n",
        "        print(\"Hashes are identical\")\n",
        "  else:\n",
        "       print(\"Hashes are not identical.\")\n",
        "\n",
        "#utilising the defined function above to confirm using the encoded hashes\n",
        "comparing_hash_values(hashvalue1,hashvalue2)\n",
        "comparing_hash_values(hashvalue1,hashvalue3)"
      ]
    },
    {
      "cell_type": "code",
      "execution_count": null,
      "metadata": {
        "id": "TNdxuwJXFJHL"
      },
      "outputs": [],
      "source": [
        "# =============================================================================\n",
        "## Task C: Write Python function to create dictionary of a block\n",
        "# =============================================================================\n",
        "##Task C1.1 :\n",
        "#Forming create_block function (@Aviraaj)\n",
        "\n",
        "def create_block(block_index,transaction_time_stamp, transaction_data, proof_of_work, previous_hash):\n",
        "    block = {\n",
        "        'block_index' : block_index,\n",
        "        'transaction_time_stamp': str(datetime.datetime.now()),\n",
        "        'transaction_data': transaction_data,\n",
        "        'proof_of_work': proof_of_work,\n",
        "        'previous_hash':previous_hash}\n",
        "    return block\n",
        "\n",
        "#Task C1.2 :\n",
        "#Forming create_chain function for adding blocks to the chain with exception handling(@Haya)\n",
        "chain_of_blocks = []\n",
        "def create_chain(block):\n",
        "    try:\n",
        "     if len(chain_of_blocks) == 0:\n",
        "        chain_of_blocks.append(block)\n",
        "     elif chain_of_blocks[-1] is None: #Confirming through [-1] index whether there is a previous block or not.\n",
        "         raise ValueError(\"There is no previous block. Therefore a new block cannot be added.\")\n",
        "     else:\n",
        "         chain_of_blocks.append(block)\n",
        "\n",
        "     return chain_of_blocks\n",
        "    except ValueError as VE :\n",
        "        print(\"Value Error:\",{VE})\n"
      ]
    },
    {
      "cell_type": "code",
      "source": [
        "# =============================================================================\n",
        "#Task C2 : Creating a Genesis Block (#@Aviraaj)\n",
        "# =============================================================================\n",
        "genesis_block = create_block(\n",
        "            block_index = 1,\n",
        "            transaction_time_stamp = str(datetime.datetime.now()),\n",
        "            transaction_data = \"This is the genesis block of account data access transactional record.\",\n",
        "            proof_of_work = 1,\n",
        "            previous_hash = \"000\"\n",
        "        )\n",
        "create_chain(genesis_block)"
      ],
      "metadata": {
        "colab": {
          "base_uri": "https://localhost:8080/"
        },
        "id": "RfQtCxI7U38U",
        "outputId": "0da68bbc-38ae-4255-a0c4-73bd41b8be96"
      },
      "execution_count": null,
      "outputs": [
        {
          "output_type": "execute_result",
          "data": {
            "text/plain": [
              "[{'block_index': 1,\n",
              "  'transaction_time_stamp': '2023-12-05 09:26:39.023559',\n",
              "  'transaction_data': 'This is the genesis block of account data access transactional record.',\n",
              "  'proof_of_work': 1,\n",
              "  'previous_hash': '000'}]"
            ]
          },
          "metadata": {},
          "execution_count": 16
        }
      ]
    },
    {
      "cell_type": "code",
      "execution_count": null,
      "metadata": {
        "id": "yErfd4tS_mIi"
      },
      "outputs": [],
      "source": [
        "# =============================================================================\n",
        "# Task C3: Blockchain Mining - the process of adding transaction records to the chain. (@Tanmay)\n",
        "# =============================================================================\n",
        "# Simulate the storage of access information in the blockchain\n",
        "def mine_block(data):\n",
        "    if not chain_of_blocks:\n",
        "        # Create Genesis Block\n",
        "        genesis_block = create_block(\n",
        "            block_index = 1,\n",
        "            transaction_time_stamp = str(datetime.datetime.now()),\n",
        "            transaction_data = \"This is the genesis block of account data access transactional record.\",\n",
        "            proof_of_work = 1,\n",
        "            previous_hash = \"000\"\n",
        "        )\n",
        "        create_chain(genesis_block)\n",
        "    else:\n",
        "        # Calculate block index #\n",
        "        index = len(chain_of_blocks) + 1\n",
        "\n",
        "        # Calculate transaction timestamp\n",
        "        transaction_time_stamp = str(datetime.datetime.now())\n",
        "\n",
        "        # Calculate transaction data\n",
        "        transaction_data = f\"{data['Loan Start Date']}; {data['Loan Account Number']}\"\n",
        "\n",
        "        # Calculate previous hash\n",
        "        previous_hash = _hashlib.sha256(str(chain_of_blocks[-1]).encode()).hexdigest()\n",
        "\n",
        "        # Proof of work by imputation of a random number\n",
        "        proof_of_work = random.randint(2000, 7000)\n",
        "\n",
        "        # Create block and add to chain\n",
        "        block = create_block(index, transaction_time_stamp, transaction_data, proof_of_work, previous_hash)\n",
        "        create_chain(block)"
      ]
    },
    {
      "cell_type": "code",
      "execution_count": null,
      "metadata": {
        "colab": {
          "base_uri": "https://localhost:8080/"
        },
        "id": "xD1NKgSGy1Lh",
        "outputId": "84532286-d316-4600-d0d5-f6f622d14bd7"
      },
      "outputs": [
        {
          "output_type": "stream",
          "name": "stdout",
          "text": [
            "121\n"
          ]
        }
      ],
      "source": [
        "# =============================================================================\n",
        "# Task C4: Simulate the storage of access information of Sensitive Account as transaction in the blockchain. (@Daphne)\n",
        "# =============================================================================\n",
        "for _ in range(120):\n",
        "    random_index = random.randint(0, len(json_to_list) - 1)\n",
        "    mine_block(json_to_list[random_index])\n",
        "print(len(chain_of_blocks))"
      ]
    },
    {
      "cell_type": "code",
      "source": [
        "print(chain_of_blocks)"
      ],
      "metadata": {
        "colab": {
          "base_uri": "https://localhost:8080/"
        },
        "id": "yflV0JI5XF-q",
        "outputId": "97e4df6b-5070-4450-f55c-2a615c90ff8d"
      },
      "execution_count": null,
      "outputs": [
        {
          "output_type": "stream",
          "name": "stdout",
          "text": [
            "[{'block_index': 1, 'transaction_time_stamp': '2023-12-05 09:26:39.023559', 'transaction_data': 'This is the genesis block of account data access transactional record.', 'proof_of_work': 1, 'previous_hash': '000'}, {'block_index': 2, 'transaction_time_stamp': '2023-12-05 09:26:39.046248', 'transaction_data': 'March 20, 2020; 710356719', 'proof_of_work': 2559, 'previous_hash': 'f40bb1629a3454c0a13fe45361df0c2a3afccb3df546eb9cdb361c37ab75f5e1'}, {'block_index': 3, 'transaction_time_stamp': '2023-12-05 09:26:39.046268', 'transaction_data': 'October 07, 2023; 684363114', 'proof_of_work': 3890, 'previous_hash': '065794ebfd1e685861b4808a35eb32d7ff9a0daa53f67c748815c58577e6754d'}, {'block_index': 4, 'transaction_time_stamp': '2023-12-05 09:26:39.046283', 'transaction_data': 'February 26, 2023; 805348136', 'proof_of_work': 5893, 'previous_hash': 'a83c0f4183fb05ef056c2262d3a8afa28ee440a9866fecba48fea48757f72c69'}, {'block_index': 5, 'transaction_time_stamp': '2023-12-05 09:26:39.046296', 'transaction_data': 'April 12, 2023; 229327937', 'proof_of_work': 5903, 'previous_hash': '32a88b3bac5a6f62527eec72ebe54450a54155e9e3b7d8c5cc9d98cbd0123b2b'}, {'block_index': 6, 'transaction_time_stamp': '2023-12-05 09:26:39.046310', 'transaction_data': 'December 07, 2022; 452450364', 'proof_of_work': 3748, 'previous_hash': '688d54cd8c961ac42da0bd2794ef188bc06501217425b29bb70b384a99311ca0'}, {'block_index': 7, 'transaction_time_stamp': '2023-12-05 09:26:39.046323', 'transaction_data': 'October 30, 2020; 506334264', 'proof_of_work': 5645, 'previous_hash': '28fb836854be4946d0d9ed121cb7c955627d81781162285c8d86d48b4fdf388e'}, {'block_index': 8, 'transaction_time_stamp': '2023-12-05 09:26:39.046336', 'transaction_data': 'December 12, 2021; 368023774', 'proof_of_work': 6957, 'previous_hash': 'bd9099ebc013f1524845ad2107212c649a18346e11a555cdb75b7eee71f93b52'}, {'block_index': 9, 'transaction_time_stamp': '2023-12-05 09:26:39.046349', 'transaction_data': 'July 14, 2023; 119505243', 'proof_of_work': 2907, 'previous_hash': '2962400b878501130fb55d59a81fbdf7e18ede4104764a6a41225ecb9e2e2ce1'}, {'block_index': 10, 'transaction_time_stamp': '2023-12-05 09:26:39.046363', 'transaction_data': 'June 16, 2022; 631173696', 'proof_of_work': 3121, 'previous_hash': '17eef5bee4b3b49ef8e5d5c52f34789384ecbd72d7712f244c4f1a953ca93e4d'}, {'block_index': 11, 'transaction_time_stamp': '2023-12-05 09:26:39.046376', 'transaction_data': 'April 07, 2022; 434171210', 'proof_of_work': 5676, 'previous_hash': 'a84b996ae34745364d1a421e97e4bcb6e7fec85e39aaf4637328cadfd86d1467'}, {'block_index': 12, 'transaction_time_stamp': '2023-12-05 09:26:39.046390', 'transaction_data': 'April 15, 2020; 795468351', 'proof_of_work': 2016, 'previous_hash': '9ac2f1cb8031356153117ccda49115c31bda315259b6c72c87063987ee318754'}, {'block_index': 13, 'transaction_time_stamp': '2023-12-05 09:26:39.046413', 'transaction_data': 'January 29, 2021; 952507169', 'proof_of_work': 3974, 'previous_hash': '684e572243c9ea5eea1919b15c2a8f564d9a014c36f2a70deecf3c50546dd267'}, {'block_index': 14, 'transaction_time_stamp': '2023-12-05 09:26:39.046427', 'transaction_data': 'November 17, 2020; 585761641', 'proof_of_work': 6015, 'previous_hash': '4e3dff072c83d2f82d809832851eb2983cedefcbe85562543e936379ed5690d1'}, {'block_index': 15, 'transaction_time_stamp': '2023-12-05 09:26:39.046440', 'transaction_data': 'January 10, 2023; 835625903', 'proof_of_work': 2037, 'previous_hash': '67f5da239bd46fcb498f10b2ff1d2fc17cb3a94c234706abea59655c0ab96185'}, {'block_index': 16, 'transaction_time_stamp': '2023-12-05 09:26:39.046453', 'transaction_data': 'May 25, 2020; 723293197', 'proof_of_work': 5522, 'previous_hash': '4f3f66025b0c38ef302abea74154f6021cb9658087cc6465459495e5b5b5e895'}, {'block_index': 17, 'transaction_time_stamp': '2023-12-05 09:26:39.046466', 'transaction_data': 'March 06, 2022; 862854642', 'proof_of_work': 6993, 'previous_hash': 'd44be8ac1e24e3e6608795beb72468ffcf74641761106324be3c239a21f928e5'}, {'block_index': 18, 'transaction_time_stamp': '2023-12-05 09:26:39.046480', 'transaction_data': 'January 25, 2020; 392924703', 'proof_of_work': 5820, 'previous_hash': '1fdbe9ecf4a1bf69ce50580afd7df5ddad2dae5b7c6b2816f658b665adf7f435'}, {'block_index': 19, 'transaction_time_stamp': '2023-12-05 09:26:39.046493', 'transaction_data': 'July 08, 2023; 516010057', 'proof_of_work': 5724, 'previous_hash': 'db7867a23ca5ff8e44a84830a9f254efae346cef975b8e9856c7a2b2fbd37d7f'}, {'block_index': 20, 'transaction_time_stamp': '2023-12-05 09:26:39.046507', 'transaction_data': 'November 21, 2022; 636704578', 'proof_of_work': 6275, 'previous_hash': 'e2130cbae666f8e45ced5c7cb43c222940e707c646abc2120a7407f551a8655a'}, {'block_index': 21, 'transaction_time_stamp': '2023-12-05 09:26:39.046520', 'transaction_data': 'July 02, 2022; 585365928', 'proof_of_work': 4290, 'previous_hash': '1fcb271bf2ee984ec801a6f55058e2ff7bf1c9e27ae07e2a7d53af0038ccd985'}, {'block_index': 22, 'transaction_time_stamp': '2023-12-05 09:26:39.046533', 'transaction_data': 'August 30, 2022; 675257701', 'proof_of_work': 3419, 'previous_hash': '238978715766f24a68418563328f317b8db2ea723a4e9c2f6c783088f6cc0714'}, {'block_index': 23, 'transaction_time_stamp': '2023-12-05 09:26:39.046546', 'transaction_data': 'August 29, 2022; 624127908', 'proof_of_work': 6340, 'previous_hash': 'f1f2da7423a48220c914201489e9def3bb229e224e1c262ee268bba1f5e30fce'}, {'block_index': 24, 'transaction_time_stamp': '2023-12-05 09:26:39.046559', 'transaction_data': 'February 14, 2020; 579162357', 'proof_of_work': 5849, 'previous_hash': '92b53a821acaa7c950cde6a18634ed0b5849016f75054d0f4f6221e42653bc87'}, {'block_index': 25, 'transaction_time_stamp': '2023-12-05 09:26:39.046572', 'transaction_data': 'November 30, 2021; 776178491', 'proof_of_work': 4392, 'previous_hash': '22c7e73bc12ae377b66d987844aa2ad148bc12896a18b6bb041eb1aa58f028b5'}, {'block_index': 26, 'transaction_time_stamp': '2023-12-05 09:26:39.046585', 'transaction_data': 'January 11, 2021; 688316205', 'proof_of_work': 6862, 'previous_hash': '548d3726dc5b3bf7ff48b8a8bbe847d4a4f1a59e3340c646f6e6f62427359488'}, {'block_index': 27, 'transaction_time_stamp': '2023-12-05 09:26:39.046598', 'transaction_data': 'September 26, 2023; 987225247', 'proof_of_work': 4015, 'previous_hash': '425de70902937acb64accc818a4abc8d0c2c5409654f59f9c952aebf4113a811'}, {'block_index': 28, 'transaction_time_stamp': '2023-12-05 09:26:39.046611', 'transaction_data': 'April 03, 2022; 653524054', 'proof_of_work': 4510, 'previous_hash': 'c38a18cc6b81898dd23503071ad4c2751912a5d9f2f676fa43d6795ff0abdc43'}, {'block_index': 29, 'transaction_time_stamp': '2023-12-05 09:26:39.046624', 'transaction_data': 'November 12, 2021; 797161804', 'proof_of_work': 3752, 'previous_hash': '1b04fed72db3e9e8d7fe66bcaeb04ae26eb0c3428fc0b7447ebd2145f8a20365'}, {'block_index': 30, 'transaction_time_stamp': '2023-12-05 09:26:39.046637', 'transaction_data': 'July 12, 2023; 745903693', 'proof_of_work': 5139, 'previous_hash': '3166251da5231eca6850bfdd666315d2c752351d4aece33956c7ae779b1b1fbc'}, {'block_index': 31, 'transaction_time_stamp': '2023-12-05 09:26:39.046649', 'transaction_data': 'April 11, 2022; 549064854', 'proof_of_work': 6719, 'previous_hash': '44da0633a4d483788066d8a073c54a63b6fd5075d7768daa2b86075207a1349b'}, {'block_index': 32, 'transaction_time_stamp': '2023-12-05 09:26:39.046663', 'transaction_data': 'May 04, 2022; 331386033', 'proof_of_work': 4938, 'previous_hash': '95061c33dff8fe693b18d95b500a04abff250efd84a7dbebf41ac735a1c3cd8a'}, {'block_index': 33, 'transaction_time_stamp': '2023-12-05 09:26:39.046676', 'transaction_data': 'January 03, 2023; 688875465', 'proof_of_work': 6116, 'previous_hash': 'c299f7dfd001c7004a778420f063d7339df93ecd22d56a1e3778add9aadf5127'}, {'block_index': 34, 'transaction_time_stamp': '2023-12-05 09:26:39.046689', 'transaction_data': 'July 09, 2023; 680685978', 'proof_of_work': 4255, 'previous_hash': '974d3739a8ada2bb93714b90aaa11594cab093faea431532afbf360bb0f64098'}, {'block_index': 35, 'transaction_time_stamp': '2023-12-05 09:26:39.046702', 'transaction_data': 'February 10, 2023; 121639692', 'proof_of_work': 2048, 'previous_hash': '4db57aac567f2007e6cf05efb566c460d1a8e3c059f04d71d63e2d04bf4333e2'}, {'block_index': 36, 'transaction_time_stamp': '2023-12-05 09:26:39.046716', 'transaction_data': 'January 27, 2023; 686875377', 'proof_of_work': 5470, 'previous_hash': '4c00e0c8c2b56dc2ed9b1cff2e48bc57a89cf2cab7bae2421e611469e8305f6e'}, {'block_index': 37, 'transaction_time_stamp': '2023-12-05 09:26:39.046739', 'transaction_data': 'April 04, 2023; 767682299', 'proof_of_work': 6194, 'previous_hash': 'e1e2aba2fce787d3606ef631380b2438bece1fc839678c6369673faac40c6bd4'}, {'block_index': 38, 'transaction_time_stamp': '2023-12-05 09:26:39.046752', 'transaction_data': 'June 18, 2022; 156336266', 'proof_of_work': 4498, 'previous_hash': 'a4763b2a9c4e688d441f11132d9dff13042e62994d27d062558cb75fc675bd3e'}, {'block_index': 39, 'transaction_time_stamp': '2023-12-05 09:26:39.046785', 'transaction_data': 'July 22, 2023; 265489578', 'proof_of_work': 5896, 'previous_hash': '97d660f8e960683e8259f82ea47f531baaf6d5822b188d35a428d0af7ebe0cb9'}, {'block_index': 40, 'transaction_time_stamp': '2023-12-05 09:26:39.046808', 'transaction_data': 'May 10, 2023; 424564197', 'proof_of_work': 5624, 'previous_hash': 'e6a3794181567a89c84d109db504fc13bab29507287830254f984846cb0dca8c'}, {'block_index': 41, 'transaction_time_stamp': '2023-12-05 09:26:39.046829', 'transaction_data': 'April 12, 2021; 400121510', 'proof_of_work': 4753, 'previous_hash': '274a615cb834e76e63cf0f6a575bfe7cb83038c59caf8fa69987ba0770880dae'}, {'block_index': 42, 'transaction_time_stamp': '2023-12-05 09:26:39.046844', 'transaction_data': 'January 27, 2023; 858085902', 'proof_of_work': 2232, 'previous_hash': '2ffe5363b1c3f5ddfeec3e511562b8b816329222f22812c17b7d16cced393558'}, {'block_index': 43, 'transaction_time_stamp': '2023-12-05 09:26:39.046856', 'transaction_data': 'September 09, 2023; 837733307', 'proof_of_work': 5328, 'previous_hash': '6c4c0285a649cd34d6c3bc2915dd14abd3774d558cf94b6633ef39b1324f61b3'}, {'block_index': 44, 'transaction_time_stamp': '2023-12-05 09:26:39.046870', 'transaction_data': 'October 22, 2021; 358981648', 'proof_of_work': 6974, 'previous_hash': '7f9c5bd6615f4fbde62433b7e81c255a55a4e1a4b97fc4dae4b3895616f3412c'}, {'block_index': 45, 'transaction_time_stamp': '2023-12-05 09:26:39.046883', 'transaction_data': 'March 25, 2023; 768295810', 'proof_of_work': 6295, 'previous_hash': '519fa94b7e2d30239f0593b054c2cad1ac1317ef9aa94927797b41d94ede6acd'}, {'block_index': 46, 'transaction_time_stamp': '2023-12-05 09:26:39.046896', 'transaction_data': 'October 30, 2020; 782871570', 'proof_of_work': 6600, 'previous_hash': 'da829c4e811fa4bb867026526fb3b5188d7c92893de8253455344de2893c9665'}, {'block_index': 47, 'transaction_time_stamp': '2023-12-05 09:26:39.046909', 'transaction_data': 'July 15, 2020; 850400687', 'proof_of_work': 4088, 'previous_hash': '2dcccc6d2dff108757b299579bc2925339bc3bbc1da5b4817c7e90483f366725'}, {'block_index': 48, 'transaction_time_stamp': '2023-12-05 09:26:39.046922', 'transaction_data': 'November 26, 2022; 418998199', 'proof_of_work': 6751, 'previous_hash': '01dc896a767b4c6074877e6ac9cc9ec12bf4222cd8138d4b7bab1a06f49b7fd1'}, {'block_index': 49, 'transaction_time_stamp': '2023-12-05 09:26:39.046935', 'transaction_data': 'March 11, 2021; 489394270', 'proof_of_work': 6240, 'previous_hash': 'f7f4eed9fb3db366608d49482861ae321f7aa519f7487346e3feca67c8807a31'}, {'block_index': 50, 'transaction_time_stamp': '2023-12-05 09:26:39.046949', 'transaction_data': 'January 26, 2023; 861949610', 'proof_of_work': 6489, 'previous_hash': '0b2d5aec8e390014b0e95f3de946fb3ee048d5877fe3465252f91a9b45ef11c6'}, {'block_index': 51, 'transaction_time_stamp': '2023-12-05 09:26:39.046962', 'transaction_data': 'February 02, 2022; 961733116', 'proof_of_work': 2326, 'previous_hash': '0011f82b2f7c9bd967b723b1e689c13ade0356d1cb0448be731eeae32ab9415c'}, {'block_index': 52, 'transaction_time_stamp': '2023-12-05 09:26:39.046975', 'transaction_data': 'November 16, 2021; 894648731', 'proof_of_work': 5442, 'previous_hash': '7fc87bc91eb4f4ff3f813e7321155788234f147e576e6d2f5dd92c9f35123746'}, {'block_index': 53, 'transaction_time_stamp': '2023-12-05 09:26:39.046988', 'transaction_data': 'September 23, 2023; 497632483', 'proof_of_work': 3090, 'previous_hash': '6547377ccad8090da407f217c30d7db5c02f3adae14cf6349623bde47d56d643'}, {'block_index': 54, 'transaction_time_stamp': '2023-12-05 09:26:39.047001', 'transaction_data': 'May 06, 2023; 217059181', 'proof_of_work': 5544, 'previous_hash': 'd0d93eab0865969733f0c4b2741b2534cdf9f0e844afbf2be44c12f787a4cc9d'}, {'block_index': 55, 'transaction_time_stamp': '2023-12-05 09:26:39.047014', 'transaction_data': 'June 03, 2020; 582032695', 'proof_of_work': 4830, 'previous_hash': 'f0c368cba04c39eb62aa7aa06aa4ff42fa522d5a880e4a92518f3dc69312964b'}, {'block_index': 56, 'transaction_time_stamp': '2023-12-05 09:26:39.047027', 'transaction_data': 'August 03, 2022; 378299735', 'proof_of_work': 4949, 'previous_hash': 'ed99f11ade853b7e366212f7213a5e814db0b822ebe6c999a3990c43fac696b9'}, {'block_index': 57, 'transaction_time_stamp': '2023-12-05 09:26:39.047040', 'transaction_data': 'July 28, 2022; 275499878', 'proof_of_work': 6319, 'previous_hash': 'f0c0072a37aad4e0e98830e4dfc3790aab3b96a2a3682af867bb94f1fffa7581'}, {'block_index': 58, 'transaction_time_stamp': '2023-12-05 09:26:39.047053', 'transaction_data': 'March 28, 2023; 278600637', 'proof_of_work': 6156, 'previous_hash': '22899d24c0df4a4148a4d73ac62c619ac2d091a8e7f88e54c156eb16ec3820b2'}, {'block_index': 59, 'transaction_time_stamp': '2023-12-05 09:26:39.047065', 'transaction_data': 'May 12, 2023; 456938087', 'proof_of_work': 5485, 'previous_hash': '5b33b55320d853466406a0c1641271a04f4f17cfe14619d9dcf2c18034acf1ee'}, {'block_index': 60, 'transaction_time_stamp': '2023-12-05 09:26:39.047079', 'transaction_data': 'July 31, 2021; 873692436', 'proof_of_work': 2562, 'previous_hash': 'e5212b8e448e42cedff1af8a9757610e86766b522dfb96978ba8015a75e18685'}, {'block_index': 61, 'transaction_time_stamp': '2023-12-05 09:26:39.047092', 'transaction_data': 'March 12, 2023; 647657020', 'proof_of_work': 2070, 'previous_hash': 'd462076a8cb5a1d09f81cd68f886cafc7e3ab38ea8d693768be9fac6f09e08f6'}, {'block_index': 62, 'transaction_time_stamp': '2023-12-05 09:26:39.047104', 'transaction_data': 'February 24, 2020; 886216195', 'proof_of_work': 4860, 'previous_hash': 'ba140171e08e2ac5bd622c19f98b249e6044fb9be68ac29a8355286c08112d5d'}, {'block_index': 63, 'transaction_time_stamp': '2023-12-05 09:26:39.047117', 'transaction_data': 'November 07, 2022; 912806167', 'proof_of_work': 3429, 'previous_hash': '897b92c1f8622c1bb7becd44de5019f34aabd338ff275c63d4cbdf06b57fb28b'}, {'block_index': 64, 'transaction_time_stamp': '2023-12-05 09:26:39.047130', 'transaction_data': 'March 06, 2021; 476710984', 'proof_of_work': 6498, 'previous_hash': '385cd36f0a02c3d41aacd1eaf37bf1473e2040cea78529c12feaa7ad101aaee1'}, {'block_index': 65, 'transaction_time_stamp': '2023-12-05 09:26:39.047143', 'transaction_data': 'April 09, 2023; 690805510', 'proof_of_work': 4362, 'previous_hash': '4254b5c9c3c240590b49fd047dbc7f4f4bfc53b9b905ad5fee39ca46bf88b038'}, {'block_index': 66, 'transaction_time_stamp': '2023-12-05 09:26:39.047156', 'transaction_data': 'April 06, 2020; 964205418', 'proof_of_work': 3617, 'previous_hash': '2a07e50219432ca36134b275380ffb7d4d51b11caf18683d032625e9bd257581'}, {'block_index': 67, 'transaction_time_stamp': '2023-12-05 09:26:39.047170', 'transaction_data': 'June 24, 2021; 235623907', 'proof_of_work': 3404, 'previous_hash': '773426f1860c8a8804026960c16329aeaf04430e036f4153c3477c080fa0dce1'}, {'block_index': 68, 'transaction_time_stamp': '2023-12-05 09:26:39.047183', 'transaction_data': 'July 09, 2023; 426900082', 'proof_of_work': 4789, 'previous_hash': '52a58139d503c75d7c2ecc31df1356aa45fb4de09ebdb03caf53727f1072c6f9'}, {'block_index': 69, 'transaction_time_stamp': '2023-12-05 09:26:39.047196', 'transaction_data': 'March 29, 2023; 407801681', 'proof_of_work': 3695, 'previous_hash': 'a8dd5911d502aadc02d2ad2910a4ddb25f4256a0ed3c33649b529de6acc369f9'}, {'block_index': 70, 'transaction_time_stamp': '2023-12-05 09:26:39.047209', 'transaction_data': 'July 04, 2020; 712199714', 'proof_of_work': 2725, 'previous_hash': '61082f466fce86bbc92349b06854f3dab256d122975b32ec260e46fd8ceb8ef6'}, {'block_index': 71, 'transaction_time_stamp': '2023-12-05 09:26:39.047222', 'transaction_data': 'November 25, 2022; 576037597', 'proof_of_work': 5588, 'previous_hash': 'f77d07fc9b0a9349cdf16d597f4945d15a891ab02592f97d180dc5a4c6cb58a6'}, {'block_index': 72, 'transaction_time_stamp': '2023-12-05 09:26:39.047235', 'transaction_data': 'May 24, 2021; 847809142', 'proof_of_work': 3883, 'previous_hash': '1637ec280c27ee55ceac9b32012f90131e8b8867d01ef82314c5d2688f048cb5'}, {'block_index': 73, 'transaction_time_stamp': '2023-12-05 09:26:39.047248', 'transaction_data': 'November 16, 2022; 377780141', 'proof_of_work': 2373, 'previous_hash': '3977321fb8318b063150f41d8259cbb7d32613e89c580e3f7b50befc8b20ed60'}, {'block_index': 74, 'transaction_time_stamp': '2023-12-05 09:26:39.047261', 'transaction_data': 'July 18, 2021; 144739827', 'proof_of_work': 5121, 'previous_hash': '143b86c49af0ad0bc95bc6a46a695b650f881fe8edb191ca1d5150070cedb4a2'}, {'block_index': 75, 'transaction_time_stamp': '2023-12-05 09:26:39.047274', 'transaction_data': 'June 25, 2023; 579021114', 'proof_of_work': 6504, 'previous_hash': 'dd286a04ea7bb89104bfe2e2e2bc040e38dc90c5fdf01e5356cb864156cd30c5'}, {'block_index': 76, 'transaction_time_stamp': '2023-12-05 09:26:39.047286', 'transaction_data': 'December 02, 2020; 585229795', 'proof_of_work': 6994, 'previous_hash': 'f5fc9f3e1774ed1488754eca72e1a16b5a783633e839a23e2fc3485ab0e35a96'}, {'block_index': 77, 'transaction_time_stamp': '2023-12-05 09:26:39.047299', 'transaction_data': 'March 04, 2023; 593968375', 'proof_of_work': 5299, 'previous_hash': 'feb53601301043ba39062defbc7c7aa7671901b6c93080a16cdb691baf173990'}, {'block_index': 78, 'transaction_time_stamp': '2023-12-05 09:26:39.047313', 'transaction_data': 'January 20, 2022; 851087764', 'proof_of_work': 5684, 'previous_hash': '1d9ab726af54a1fcbb9522a87bcb74e65c1692ec19571c5e5883e76ee5e7a73a'}, {'block_index': 79, 'transaction_time_stamp': '2023-12-05 09:26:39.047325', 'transaction_data': 'May 23, 2021; 362294621', 'proof_of_work': 4440, 'previous_hash': 'cd401cde8dbaa4b30f8f5894fcd52e5efd25783bcf0187f14388c9bc0987d4c2'}, {'block_index': 80, 'transaction_time_stamp': '2023-12-05 09:26:39.047338', 'transaction_data': 'October 17, 2022; 869390001', 'proof_of_work': 3824, 'previous_hash': '8714a42dec73351b2b60b8a769831c68c762fff5a727a4f5c093ddd910f4594f'}, {'block_index': 81, 'transaction_time_stamp': '2023-12-05 09:26:39.047351', 'transaction_data': 'July 16, 2020; 471389916', 'proof_of_work': 3585, 'previous_hash': '39ef6c838bb7d3d8023aebcdfda72279fa88d9321c647e18569ea21e6e3d2b37'}, {'block_index': 82, 'transaction_time_stamp': '2023-12-05 09:26:39.047364', 'transaction_data': 'May 22, 2023; 988268886', 'proof_of_work': 3823, 'previous_hash': '8ec6e4bb74409e7c5c2608db2a8489d7120ed2201194a8af607b179c9e6fbca7'}, {'block_index': 83, 'transaction_time_stamp': '2023-12-05 09:26:39.047377', 'transaction_data': 'March 05, 2021; 477576870', 'proof_of_work': 5309, 'previous_hash': '5807c815c73eb4e4a4993e16cbc833231d17d8e7ab7ad46417db21d3c8cfaa9f'}, {'block_index': 84, 'transaction_time_stamp': '2023-12-05 09:26:39.047390', 'transaction_data': 'July 18, 2020; 825505438', 'proof_of_work': 4468, 'previous_hash': '6efdfce0fe3c34555b9bbde64095f94e7c2a8c7110ee20f19a9d4c207c2942dd'}, {'block_index': 85, 'transaction_time_stamp': '2023-12-05 09:26:39.047408', 'transaction_data': 'January 18, 2023; 611414222', 'proof_of_work': 2040, 'previous_hash': 'c8e9285e03aa621355133c83c51cacbcd23b5ae635876f1ecd4238afca9d93ea'}, {'block_index': 86, 'transaction_time_stamp': '2023-12-05 09:26:39.047421', 'transaction_data': 'April 15, 2021; 386122630', 'proof_of_work': 6632, 'previous_hash': '90228f2c13fbd23489a4a45c3f4279900fde79f94096bfb69608347ad12f6788'}, {'block_index': 87, 'transaction_time_stamp': '2023-12-05 09:26:39.047435', 'transaction_data': 'August 03, 2021; 246664124', 'proof_of_work': 2464, 'previous_hash': '6bf4a9b56be7eeb5c470dc3c857d6eaee1dec0577ad31194ba91c62e78274f5f'}, {'block_index': 88, 'transaction_time_stamp': '2023-12-05 09:26:39.047447', 'transaction_data': 'April 15, 2020; 795468351', 'proof_of_work': 5536, 'previous_hash': '632e23f31ee8ac9a66b37967327e236ddd4409eb3f659352dc120d76922c3cad'}, {'block_index': 89, 'transaction_time_stamp': '2023-12-05 09:26:39.047460', 'transaction_data': 'June 29, 2020; 915636015', 'proof_of_work': 4479, 'previous_hash': '613065cdd7bdcf3230e9a4ee2fd496a2671f5a862eb1ec01b72e90ebd16f6404'}, {'block_index': 90, 'transaction_time_stamp': '2023-12-05 09:26:39.047473', 'transaction_data': 'February 28, 2022; 940657912', 'proof_of_work': 6338, 'previous_hash': '4e4647969a745bd7241c568e91f20e540804b0abcdb86d09e507e0a5ed057135'}, {'block_index': 91, 'transaction_time_stamp': '2023-12-05 09:26:39.047486', 'transaction_data': 'February 07, 2021; 753647227', 'proof_of_work': 6390, 'previous_hash': 'b75985ab53f23f5e0166bc02f22b2887fa4c8feec1d0c201491e70c30bb7308e'}, {'block_index': 92, 'transaction_time_stamp': '2023-12-05 09:26:39.047499', 'transaction_data': 'July 21, 2022; 800080320', 'proof_of_work': 6002, 'previous_hash': '207641bae490fe0f504e601aeef3f095c62481f8b9b1fdd056d396c8f6d0dc12'}, {'block_index': 93, 'transaction_time_stamp': '2023-12-05 09:26:39.047513', 'transaction_data': 'November 25, 2022; 617856421', 'proof_of_work': 2205, 'previous_hash': '2e02b54234cdadb560bfede6adf85576fa076eccfd7fdddda9e35135525519cc'}, {'block_index': 94, 'transaction_time_stamp': '2023-12-05 09:26:39.047526', 'transaction_data': 'June 26, 2021; 597633934', 'proof_of_work': 5909, 'previous_hash': 'a4f8e1a71da03687376a8b7467c0271b293e2467902c8a71b12dc75ab7c4c9dc'}, {'block_index': 95, 'transaction_time_stamp': '2023-12-05 09:26:39.047538', 'transaction_data': 'March 26, 2020; 344141183', 'proof_of_work': 6925, 'previous_hash': 'edc748cf94c7270ab8aa999b49091325f71b7292bd4274ccc2311881a8104950'}, {'block_index': 96, 'transaction_time_stamp': '2023-12-05 09:26:39.047551', 'transaction_data': 'August 23, 2021; 188020795', 'proof_of_work': 2832, 'previous_hash': '3a284b9b59c0cec1aa20adec3fb8a536f80125657c83f15645af0317db19e8ce'}, {'block_index': 97, 'transaction_time_stamp': '2023-12-05 09:26:39.047565', 'transaction_data': 'January 08, 2023; 576260856', 'proof_of_work': 5543, 'previous_hash': 'd0bbda20b73816ef9901cf0b88362fbe5e9c7ed9c0dc7e476235bdd31a422e9f'}, {'block_index': 98, 'transaction_time_stamp': '2023-12-05 09:26:39.047579', 'transaction_data': 'May 19, 2022; 213115461', 'proof_of_work': 5847, 'previous_hash': '75e907801f75fb3012277e754ae2f91cceda8f66b3644b3dbfa0b19b1c400fab'}, {'block_index': 99, 'transaction_time_stamp': '2023-12-05 09:26:39.047593', 'transaction_data': 'December 08, 2022; 591385979', 'proof_of_work': 3434, 'previous_hash': 'b1d307985894b49a381c8c14738b52e696fd74bfa226c053c13eebeb70850380'}, {'block_index': 100, 'transaction_time_stamp': '2023-12-05 09:26:39.047608', 'transaction_data': 'February 03, 2022; 347603489', 'proof_of_work': 5111, 'previous_hash': 'c33b0984564d6119be85b503b81d603aece96cffa446e0e84c9c924d1d20d5c8'}, {'block_index': 101, 'transaction_time_stamp': '2023-12-05 09:26:39.047621', 'transaction_data': 'July 28, 2023; 965180793', 'proof_of_work': 2522, 'previous_hash': 'b75b12331789aa079d02080347074967cdca0f90f7339cebeee3a0aee0a26a33'}, {'block_index': 102, 'transaction_time_stamp': '2023-12-05 09:26:39.047635', 'transaction_data': 'January 01, 2023; 338008369', 'proof_of_work': 3269, 'previous_hash': 'dda3e2ab7b64bfe60b62f6ae7420530a06410baaf4ededa4db08cde5716be4ae'}, {'block_index': 103, 'transaction_time_stamp': '2023-12-05 09:26:39.047648', 'transaction_data': 'December 25, 2022; 401163915', 'proof_of_work': 5512, 'previous_hash': 'a2b0165f1d1e025d52bb7348113ae313649206722d2e7c838611046e7a569051'}, {'block_index': 104, 'transaction_time_stamp': '2023-12-05 09:26:39.047662', 'transaction_data': 'April 23, 2021; 636770588', 'proof_of_work': 6707, 'previous_hash': 'b3e678ff1dbd4b67a6e91ac072688f870e7b502a5fe850a0e8ce77e878043844'}, {'block_index': 105, 'transaction_time_stamp': '2023-12-05 09:26:39.047675', 'transaction_data': 'July 31, 2020; 513498869', 'proof_of_work': 6984, 'previous_hash': '72ad3b2d1198a887b7cd0824b5ad97cf0ae640c8355b09b905b12b380987d7de'}, {'block_index': 106, 'transaction_time_stamp': '2023-12-05 09:26:39.047689', 'transaction_data': 'December 24, 2022; 153388115', 'proof_of_work': 6524, 'previous_hash': '930ecfc5e3f4675eb348ee0530c2b0775515f4ac034d2eae3b8354ed5cff1fee'}, {'block_index': 107, 'transaction_time_stamp': '2023-12-05 09:26:39.047701', 'transaction_data': 'May 15, 2022; 336321877', 'proof_of_work': 3863, 'previous_hash': '8dca33d8f7c67e77b52c74044ee1aee81a75127ad555d703eb754d5a13219f82'}, {'block_index': 108, 'transaction_time_stamp': '2023-12-05 09:26:39.047714', 'transaction_data': 'August 06, 2021; 814336341', 'proof_of_work': 4237, 'previous_hash': 'e53770f712d82d3840ba33b70a1b39b93578982aaf4a946acbb313ff7355150d'}, {'block_index': 109, 'transaction_time_stamp': '2023-12-05 09:26:39.047727', 'transaction_data': 'February 21, 2020; 447208483', 'proof_of_work': 5023, 'previous_hash': 'f8cadd7763504a6442c18f9bdb8cf9180714a9672e743720ba8b206029cfd6ee'}, {'block_index': 110, 'transaction_time_stamp': '2023-12-05 09:26:39.047741', 'transaction_data': 'August 10, 2020; 313685858', 'proof_of_work': 3245, 'previous_hash': 'a9346b134c47c9706a29efffb2762e4df32aa75ec247c189250a2ad9f484b324'}, {'block_index': 111, 'transaction_time_stamp': '2023-12-05 09:26:39.047754', 'transaction_data': 'March 16, 2021; 231865159', 'proof_of_work': 4380, 'previous_hash': '62864bafbf1b96fac503ca1b0d1b4647f1b8d32115c0d18abb4e4beefeb4c799'}, {'block_index': 112, 'transaction_time_stamp': '2023-12-05 09:26:39.047776', 'transaction_data': 'December 22, 2021; 646972867', 'proof_of_work': 2821, 'previous_hash': 'b8e1bca8b206d2590746bb2ca7c88676eca7f1f005cab7f9ef9fed5d3a517754'}, {'block_index': 113, 'transaction_time_stamp': '2023-12-05 09:26:39.047789', 'transaction_data': 'May 05, 2020; 632967220', 'proof_of_work': 3720, 'previous_hash': 'c7f04bff449a4d0d91964b4bbf782ebbddd05326edda2bb5e8d4d501f9d41dfd'}, {'block_index': 114, 'transaction_time_stamp': '2023-12-05 09:26:39.047802', 'transaction_data': 'June 03, 2022; 899659354', 'proof_of_work': 6168, 'previous_hash': '2de5fdf1d472697f1017ae12f1dd278933799a5c16cb113e80333afd002ee298'}, {'block_index': 115, 'transaction_time_stamp': '2023-12-05 09:26:39.047815', 'transaction_data': 'May 29, 2022; 222744736', 'proof_of_work': 3796, 'previous_hash': 'edbaed748d50a36ce444d831211f69304dfbc61bd922b0eeb86e69c025329ebd'}, {'block_index': 116, 'transaction_time_stamp': '2023-12-05 09:26:39.047828', 'transaction_data': 'April 21, 2020; 491271661', 'proof_of_work': 2585, 'previous_hash': '8a1c86cbb3dc043aca3b6672a0374fa0b28755bab18128e22e62a03faec0230b'}, {'block_index': 117, 'transaction_time_stamp': '2023-12-05 09:26:39.047841', 'transaction_data': 'August 03, 2023; 467239890', 'proof_of_work': 5415, 'previous_hash': '6f095dd3b432df00e51f2b2809d9157107e8577a95c0799f9de8b934fc514fc9'}, {'block_index': 118, 'transaction_time_stamp': '2023-12-05 09:26:39.047854', 'transaction_data': 'September 24, 2023; 972188382', 'proof_of_work': 6502, 'previous_hash': '099f66066309e4aee05c4530c80db7c86b6969ae022aae9e085a085f5f8a4461'}, {'block_index': 119, 'transaction_time_stamp': '2023-12-05 09:26:39.047867', 'transaction_data': 'December 21, 2021; 365535305', 'proof_of_work': 6587, 'previous_hash': 'a280d004add55d7818d95c93342783f48edb5487af9101846ec40ed44dc76430'}, {'block_index': 120, 'transaction_time_stamp': '2023-12-05 09:26:39.047880', 'transaction_data': 'March 09, 2021; 414728601', 'proof_of_work': 2127, 'previous_hash': '26e2e96d4ba47439cd0a0b95d3ed853c37e19392637ebc8822e25ccc35f9dcf1'}, {'block_index': 121, 'transaction_time_stamp': '2023-12-05 09:26:39.047898', 'transaction_data': 'February 11, 2023; 244733950', 'proof_of_work': 3193, 'previous_hash': '0ca15a870cdf7edf1cace2a1a8d1539a0fb5072ebb1f18a0d165e54d4fb46cb5'}]\n"
          ]
        }
      ]
    },
    {
      "cell_type": "code",
      "execution_count": null,
      "metadata": {
        "id": "zYE6uMOwM9im",
        "colab": {
          "base_uri": "https://localhost:8080/",
          "height": 369
        },
        "outputId": "6d44eb6c-0420-488f-d2da-eafd2ed9aec9"
      },
      "outputs": [
        {
          "output_type": "error",
          "ename": "KeyboardInterrupt",
          "evalue": "ignored",
          "traceback": [
            "\u001b[0;31m---------------------------------------------------------------------------\u001b[0m",
            "\u001b[0;31mKeyboardInterrupt\u001b[0m                         Traceback (most recent call last)",
            "\u001b[0;32m<ipython-input-20-c0e6498688bf>\u001b[0m in \u001b[0;36m<cell line: 26>\u001b[0;34m()\u001b[0m\n\u001b[1;32m     24\u001b[0m             \u001b[0;32mexcept\u001b[0m \u001b[0mRuntimeError\u001b[0m \u001b[0;32mas\u001b[0m \u001b[0mre\u001b[0m \u001b[0;34m:\u001b[0m\u001b[0;34m\u001b[0m\u001b[0;34m\u001b[0m\u001b[0m\n\u001b[1;32m     25\u001b[0m                  \u001b[0mprint\u001b[0m\u001b[0;34m(\u001b[0m\u001b[0;34m\"Runtime Error:\"\u001b[0m\u001b[0;34m,\u001b[0m \u001b[0mre\u001b[0m\u001b[0;34m)\u001b[0m\u001b[0;34m\u001b[0m\u001b[0;34m\u001b[0m\u001b[0m\n\u001b[0;32m---> 26\u001b[0;31m \u001b[0mblockchain_latency\u001b[0m\u001b[0;34m(\u001b[0m\u001b[0;34m)\u001b[0m\u001b[0;34m\u001b[0m\u001b[0;34m\u001b[0m\u001b[0m\n\u001b[0m",
            "\u001b[0;32m<ipython-input-20-c0e6498688bf>\u001b[0m in \u001b[0;36mblockchain_latency\u001b[0;34m()\u001b[0m\n\u001b[1;32m     20\u001b[0m         \u001b[0;32mfor\u001b[0m \u001b[0maverage_latency\u001b[0m \u001b[0;32min\u001b[0m \u001b[0maverage_latency_list\u001b[0m\u001b[0;34m:\u001b[0m\u001b[0;34m\u001b[0m\u001b[0;34m\u001b[0m\u001b[0m\n\u001b[1;32m     21\u001b[0m             \u001b[0;32mtry\u001b[0m \u001b[0;34m:\u001b[0m\u001b[0;34m\u001b[0m\u001b[0;34m\u001b[0m\u001b[0m\n\u001b[0;32m---> 22\u001b[0;31m                  \u001b[0mtotal_time\u001b[0m \u001b[0;34m=\u001b[0m \u001b[0msimulating_latency\u001b[0m\u001b[0;34m(\u001b[0m\u001b[0mn\u001b[0m\u001b[0;34m,\u001b[0m\u001b[0maverage_latency\u001b[0m\u001b[0;34m)\u001b[0m\u001b[0;34m\u001b[0m\u001b[0;34m\u001b[0m\u001b[0m\n\u001b[0m\u001b[1;32m     23\u001b[0m                  \u001b[0mprint\u001b[0m\u001b[0;34m(\u001b[0m\u001b[0;34mf\"Total time taken for {n} blocks with {average_latency} seconds average latency: {total_time} secs\"\u001b[0m\u001b[0;34m)\u001b[0m\u001b[0;34m\u001b[0m\u001b[0;34m\u001b[0m\u001b[0m\n\u001b[1;32m     24\u001b[0m             \u001b[0;32mexcept\u001b[0m \u001b[0mRuntimeError\u001b[0m \u001b[0;32mas\u001b[0m \u001b[0mre\u001b[0m \u001b[0;34m:\u001b[0m\u001b[0;34m\u001b[0m\u001b[0;34m\u001b[0m\u001b[0m\n",
            "\u001b[0;32m<ipython-input-20-c0e6498688bf>\u001b[0m in \u001b[0;36msimulating_latency\u001b[0;34m(n, average_latency)\u001b[0m\n\u001b[1;32m      7\u001b[0m     \u001b[0;32mfor\u001b[0m \u001b[0mi\u001b[0m \u001b[0;32min\u001b[0m \u001b[0mrange\u001b[0m \u001b[0;34m(\u001b[0m\u001b[0;36m1\u001b[0m\u001b[0;34m,\u001b[0m \u001b[0mn\u001b[0m\u001b[0;34m+\u001b[0m\u001b[0;36m1\u001b[0m\u001b[0;34m)\u001b[0m \u001b[0;34m:\u001b[0m\u001b[0;34m\u001b[0m\u001b[0;34m\u001b[0m\u001b[0m\n\u001b[1;32m      8\u001b[0m       \u001b[0mstart_time\u001b[0m \u001b[0;34m=\u001b[0m \u001b[0mtime\u001b[0m\u001b[0;34m.\u001b[0m\u001b[0mtime\u001b[0m\u001b[0;34m(\u001b[0m\u001b[0;34m)\u001b[0m \u001b[0;31m#recording start time for block creation\u001b[0m\u001b[0;34m\u001b[0m\u001b[0;34m\u001b[0m\u001b[0m\n\u001b[0;32m----> 9\u001b[0;31m       \u001b[0mtime\u001b[0m\u001b[0;34m.\u001b[0m\u001b[0msleep\u001b[0m\u001b[0;34m(\u001b[0m\u001b[0maverage_latency\u001b[0m\u001b[0;34m)\u001b[0m \u001b[0;31m#creating latency\u001b[0m\u001b[0;34m\u001b[0m\u001b[0;34m\u001b[0m\u001b[0m\n\u001b[0m\u001b[1;32m     10\u001b[0m       \u001b[0mend_time\u001b[0m \u001b[0;34m=\u001b[0m \u001b[0mtime\u001b[0m\u001b[0;34m.\u001b[0m\u001b[0mtime\u001b[0m\u001b[0;34m(\u001b[0m\u001b[0;34m)\u001b[0m \u001b[0;31m#recording end time for block creation\u001b[0m\u001b[0;34m\u001b[0m\u001b[0;34m\u001b[0m\u001b[0m\n\u001b[1;32m     11\u001b[0m       \u001b[0mblock_time\u001b[0m \u001b[0;34m=\u001b[0m \u001b[0mend_time\u001b[0m \u001b[0;34m-\u001b[0m \u001b[0mstart_time\u001b[0m\u001b[0;34m\u001b[0m\u001b[0;34m\u001b[0m\u001b[0m\n",
            "\u001b[0;31mKeyboardInterrupt\u001b[0m: "
          ]
        }
      ],
      "source": [
        "# =============================================================================\n",
        "# Task C5 - Simulate Latency in a Blockchain Network for Different Loan Account Access Transactions #(@Haya)\n",
        "# =============================================================================\n",
        "import time\n",
        "def simulating_latency(n,average_latency):\n",
        "    total_time = 0\n",
        "    for i in range (1, n+1) :\n",
        "      start_time = time.time() #recording start time for block creation\n",
        "      time.sleep(average_latency) #creating latency\n",
        "      end_time = time.time() #recording end time for block creation\n",
        "      block_time = end_time - start_time\n",
        "      total_time += (block_time)\n",
        "\n",
        "    return total_time\n",
        "#(@Daphne)\n",
        "n_list = [120,500,1000]\n",
        "average_latency_list = [10,20]\n",
        "def blockchain_latency():\n",
        "    for n in n_list:\n",
        "        for average_latency in average_latency_list:\n",
        "            try :\n",
        "                 total_time = simulating_latency(n,average_latency)\n",
        "                 print(f\"Total time taken for {n} blocks with {average_latency} seconds average latency: {total_time} secs\")\n",
        "            except RuntimeError as re :\n",
        "                 print(\"Runtime Error:\", re)\n",
        "blockchain_latency()\n"
      ]
    },
    {
      "cell_type": "code",
      "execution_count": null,
      "metadata": {
        "id": "CF0h-Bq_6maO",
        "colab": {
          "base_uri": "https://localhost:8080/",
          "height": 490
        },
        "outputId": "60707a1d-4fb9-4f5b-abfd-4eb97330c97d"
      },
      "outputs": [
        {
          "output_type": "display_data",
          "data": {
            "text/plain": [
              "<Figure size 640x480 with 1 Axes>"
            ],
            "image/png": "[encoded data removed]"
          },
          "metadata": {}
        },
        {
          "output_type": "display_data",
          "data": {
            "text/plain": [
              "<Figure size 1000x500 with 0 Axes>"
            ]
          },
          "metadata": {}
        }
      ],
      "source": [
        "#Line chart for plotting blocks creation time along with latencies #(@Haya)\n",
        "import matplotlib.pyplot as plt\n",
        "n_list = [120,500,1000]\n",
        "average_latency_list = [10,20]\n",
        "#Seperating blocks for 10 and 20 seconds latencies respectively\n",
        "latency_10sec = [1201.0311,5004.421,10008.927]\n",
        "blocks_10sec = [120,500,1000]\n",
        "latency_20sec = [2402.097,10008.1635,20008.92]\n",
        "blocks_20sec = [120,500,1000]\n",
        "plt.plot(blocks_10sec,latency_10sec,marker = 'o', label= '10 secs average latency')\n",
        "plt.plot(blocks_20sec,latency_20sec,marker = 'o',label= '20 secs average latency')\n",
        "#Adding labels\n",
        "plt.xlabel(\"Number of Blocks\")\n",
        "plt.ylabel(\"Total Time in Seconds\")\n",
        "plt.title(\"Total time for given number of blocks\")\n",
        "plt.figure(figsize=(10,5))\n",
        "plt.show()\n"
      ]
    },
    {
      "cell_type": "code",
      "execution_count": null,
      "metadata": {
        "id": "mqtXE6vLSBsQ"
      },
      "outputs": [],
      "source": [
        "import matplotlib.pyplot as plt #(@Tanmay)\n",
        "\n",
        "# Proof of Work Distribution\n",
        "proof_of_work_values = [block['proof_of_work'] for block in chain_of_blocks]\n",
        "\n",
        "plt.hist(proof_of_work_values, bins=20, edgecolor='black')\n",
        "plt.xlabel('Proof of Work Values')\n",
        "plt.ylabel('Number of Blocks')\n",
        "plt.title('Proof of Work Distribution')\n",
        "plt.show()"
      ]
    },
    {
      "cell_type": "code",
      "source": [],
      "metadata": {
        "id": "Loph9X2z9yMX"
      },
      "execution_count": null,
      "outputs": []
    },
    {
      "cell_type": "code",
      "execution_count": null,
      "metadata": {
        "id": "O6vH5FaMTBbF"
      },
      "outputs": [],
      "source": [
        "#Transaction Data Analysis(@Tanmay)\n",
        "transaction_sizes = [len(block['transaction_data']) for block in chain_of_blocks]\n",
        "block_indices = [block['block_index'] for block in chain_of_blocks]\n",
        "\n",
        "plt.scatter(block_indices, transaction_sizes)\n",
        "plt.xlabel('Block Index')\n",
        "plt.ylabel('Transaction Size')\n",
        "plt.title('Transaction Data Analysis')\n",
        "plt.show()\n"
      ]
    },
    {
      "cell_type": "code",
      "execution_count": null,
      "metadata": {
        "id": "ONOW9JowUL1W",
        "colab": {
          "base_uri": "https://localhost:8080/",
          "height": 254
        },
        "outputId": "a74a2fdc-28c6-43f1-d263-cc62f82138c4"
      },
      "outputs": [
        {
          "output_type": "error",
          "ename": "NameError",
          "evalue": "ignored",
          "traceback": [
            "\u001b[0;31m---------------------------------------------------------------------------\u001b[0m",
            "\u001b[0;31mNameError\u001b[0m                                 Traceback (most recent call last)",
            "\u001b[0;32m<ipython-input-25-bd48bb47a92d>\u001b[0m in \u001b[0;36m<cell line: 4>\u001b[0;34m()\u001b[0m\n\u001b[1;32m      2\u001b[0m \u001b[0maverage_latencies\u001b[0m \u001b[0;34m=\u001b[0m \u001b[0;34m[\u001b[0m\u001b[0mrandom\u001b[0m\u001b[0;34m.\u001b[0m\u001b[0muniform\u001b[0m\u001b[0;34m(\u001b[0m\u001b[0;36m5\u001b[0m\u001b[0;34m,\u001b[0m \u001b[0;36m15\u001b[0m\u001b[0;34m)\u001b[0m \u001b[0;32mfor\u001b[0m \u001b[0m_\u001b[0m \u001b[0;32min\u001b[0m \u001b[0mrange\u001b[0m\u001b[0;34m(\u001b[0m\u001b[0mlen\u001b[0m\u001b[0;34m(\u001b[0m\u001b[0mchain_of_blocks\u001b[0m\u001b[0;34m)\u001b[0m\u001b[0;34m)\u001b[0m\u001b[0;34m]\u001b[0m  \u001b[0;31m# Replace with actual average latency values\u001b[0m\u001b[0;34m\u001b[0m\u001b[0;34m\u001b[0m\u001b[0m\n\u001b[1;32m      3\u001b[0m \u001b[0;34m\u001b[0m\u001b[0m\n\u001b[0;32m----> 4\u001b[0;31m \u001b[0mplt\u001b[0m\u001b[0;34m.\u001b[0m\u001b[0mplot\u001b[0m\u001b[0;34m(\u001b[0m\u001b[0mblock_indices\u001b[0m\u001b[0;34m,\u001b[0m \u001b[0maverage_latencies\u001b[0m\u001b[0;34m)\u001b[0m\u001b[0;34m\u001b[0m\u001b[0;34m\u001b[0m\u001b[0m\n\u001b[0m\u001b[1;32m      5\u001b[0m \u001b[0mplt\u001b[0m\u001b[0;34m.\u001b[0m\u001b[0mxlabel\u001b[0m\u001b[0;34m(\u001b[0m\u001b[0;34m'Block Index'\u001b[0m\u001b[0;34m)\u001b[0m\u001b[0;34m\u001b[0m\u001b[0;34m\u001b[0m\u001b[0m\n\u001b[1;32m      6\u001b[0m \u001b[0mplt\u001b[0m\u001b[0;34m.\u001b[0m\u001b[0mylabel\u001b[0m\u001b[0;34m(\u001b[0m\u001b[0;34m'Average Latency (s)'\u001b[0m\u001b[0;34m)\u001b[0m\u001b[0;34m\u001b[0m\u001b[0;34m\u001b[0m\u001b[0m\n",
            "\u001b[0;31mNameError\u001b[0m: name 'block_indices' is not defined"
          ]
        }
      ],
      "source": [
        "# Average Latency Over Time  #@Aviraaj\n",
        "average_latencies = [random.uniform(5, 15) for _ in range(len(chain_of_blocks))]  # Replace with actual average latency values\n",
        "\n",
        "plt.plot(block_indices, average_latencies)\n",
        "plt.xlabel('Block Index')\n",
        "plt.ylabel('Average Latency (s)')\n",
        "plt.title('Average Latency Over Time')\n",
        "plt.show()"
      ]
    },
    {
      "cell_type": "code",
      "execution_count": null,
      "metadata": {
        "id": "VfddNv-5UyNW",
        "colab": {
          "base_uri": "https://localhost:8080/",
          "height": 415
        },
        "outputId": "bae83526-36fe-43f9-875f-4b3d10d5ef57"
      },
      "outputs": [
        {
          "output_type": "display_data",
          "data": {
            "text/plain": [
              "<Figure size 640x480 with 1 Axes>"
            ],
            "image/png": "[encoded data removed]"
          },
          "metadata": {}
        }
      ],
      "source": [
        "#(@Haya) Visualizing our Loan Accounts Blockchain with 3-D layout\n",
        "#Reference : Tutorialspoint.com.Python - Visualize graphs generated in NetworkX using Matplotlib. [online] Available at: https://www.tutorialspoint.com/python-visualize-graphs-generated-in-networkx-using-matplotlib [Accessed 2 Dec. 2023].\n",
        "import networkx as nx\n",
        "\n",
        "di = nx.DiGraph()\n",
        "#Create nodes for each account based on account number\n",
        "acc_number = [account['Loan Account Number'] for account in json_to_list]\n",
        "positions_for_node = [i for i, acc_number in enumerate(json_to_list)]\n",
        "fig = plt.figure()\n",
        "subfig = fig.add_subplot(111,projection = '3d')\n",
        "\n",
        "#Plotting nodes :\n",
        "x = positions_for_node\n",
        "y = [0]*len(x)\n",
        "z = [0]* len(x)\n",
        "subfig.scatter(x,y,z,c='red',marker='o',s=200,label= 'Nodes' )\n",
        "\n",
        "#Creating an edge so that 2 consecutive blocks are connected to each other in a chain :\n",
        "for i in range(len(json_to_list)-1):\n",
        "  present_account_numb = json_to_list[i]['Loan Account Number']\n",
        "  next_account_number = json_to_list[i+1]['Loan Account Number']\n",
        "  #Alotting weights for edges based on Loan Amount to reduce large values :\n",
        "  loan_amount = json_to_list[i]['Loan Amount']\n",
        "  weight = loan_amount/1000\n",
        "  linewidth = weight*0.5 #setting edge linewidth based on weight calculated\n",
        "  subfig.plot([present_account_numb,next_account_number],[0,0],[0,1],c='blue',linestyle='dashed',linewidth=linewidth)\n",
        "#Labels\n",
        "subfig.set_xlabel('Account Nos.')\n",
        "subfig.set_ylabel(\"Y-Axis\")\n",
        "subfig.set_zlabel(\"Z-Axis\");\n",
        "\n"
      ]
    },
    {
      "cell_type": "code",
      "execution_count": null,
      "metadata": {
        "id": "KcVyySQ-9ZFx"
      },
      "outputs": [],
      "source": [
        "#Creating a Density Plot for Monthly Payments : @Aviraaj\n",
        "terms = [loan_term['Loan Term'] for loan_term in json_to_list]\n",
        "MP = [MP['Monthly Payment'] for MP in json_to_list]\n",
        "plt.figure(figsize=(12,6))\n",
        "plt.hist(MP, bins = 10 , color = 'red' , edgecolor = 'purple',alpha=0.8)\n",
        "plt.grid(axis='y')\n",
        "plt.xlabel(\"Monthly Payment\")\n",
        "plt.ylabel(\"Density\")\n",
        "plt.title('Density Plot for Monthly Payments')\n",
        "plt.tight_layout()\n",
        "plt.show()"
      ]
    },
    {
      "cell_type": "code",
      "execution_count": null,
      "metadata": {
        "id": "MZkOwb6gji6O"
      },
      "outputs": [],
      "source": [
        "#Histogram of loan amounts in the dataset #(@Daphne)\n",
        "import matplotlib.pyplot as plt\n",
        "\n",
        "# Extract the loan amounts\n",
        "loan_amounts = []\n",
        "for dictionary in json_to_list:\n",
        "    if len(dictionary) >= 3:\n",
        "        loan_amounts.append(list(dictionary.values())[2])\n",
        "\n",
        "# Plotting the loan amounts\n",
        "plt.hist(loan_amounts, bins=10, edgecolor='black')\n",
        "plt.xlabel('Loan Amount')\n",
        "plt.ylabel('Frequency')\n",
        "plt.title('Histogram of Loan Amounts')\n",
        "\n",
        "# Display the plot\n",
        "plt.tight_layout()\n",
        "plt.show()"
      ]
    },
    {
      "cell_type": "code",
      "execution_count": null,
      "metadata": {
        "id": "EgfESUi1oXZ7"
      },
      "outputs": [],
      "source": [
        "#Illustrate the loan amount proportions (@Daphne)\n",
        "import matplotlib.pyplot as plt\n",
        "\n",
        "# Define the loan amount categories\n",
        "categories = ['0 - 10k', '20k - 30k', '30k - 40k', '40k - 50k']\n",
        "\n",
        "# Extract the loan amounts\n",
        "loan_amounts = []\n",
        "for dictionary in json_to_list:\n",
        "    if len(dictionary) >= 3:\n",
        "        loan_amount = list(dictionary.values())[2]\n",
        "        loan_amounts.append(loan_amount)\n",
        "\n",
        "# Count the occurrences of loan amounts within each category\n",
        "category_counts = [0, 0, 0, 0]\n",
        "for loan_amount in loan_amounts:\n",
        "    if loan_amount >= 0 and loan_amount <= 10000:\n",
        "        category_counts[0] += 1\n",
        "    elif loan_amount >= 20000 and loan_amount <= 30000:\n",
        "        category_counts[1] += 1\n",
        "    elif loan_amount >= 30000 and loan_amount <= 40000:\n",
        "        category_counts[2] += 1\n",
        "    elif loan_amount >= 40000 and loan_amount <= 50000:\n",
        "        category_counts[3] += 1\n",
        "\n",
        "# Calculate the percentages of loan amounts within each category\n",
        "total_loans = len(loan_amounts)\n",
        "category_percentages = [count / total_loans * 100 for count in category_counts]\n",
        "\n",
        "#Define the colors for the pie chart\n",
        "colors = ['aliceblue', 'lightskyblue', 'cornflowerblue', 'dodgerblue']\n",
        "\n",
        "# Generate the pie chart\n",
        "plt.pie(category_percentages, autopct='%1.1f%%',colors=colors)\n",
        "plt.title('Loan Amount Categories')\n",
        "\n",
        "# Add legend outside the pie chart using bbox_to_anchor\n",
        "plt.legend(categories, title='Loan Amount', bbox_to_anchor=(1, 0.5), loc=\"center left\")\n",
        "\n",
        "# Display the plot\n",
        "plt.tight_layout()\n",
        "plt.show()"
      ]
    },
    {
      "cell_type": "code",
      "execution_count": null,
      "metadata": {
        "id": "_bv9H3Zezzd0"
      },
      "outputs": [],
      "source": [
        "#Visualizing our Loan Accounts Blockchain with Spring Layout#(@Haya)\n",
        "#Reference :Tutorialspoint.com. Python - Visualize graphs generated in NetworkX using Matplotlib. [online] Available at: https://www.tutorialspoint.com/python-visualize-graphs-generated-in-networkx-using-matplotlib [Accessed 2 Dec. 2023].\n",
        "import networkx as nx\n",
        "di = nx.DiGraph()\n",
        "#Create nodes for each account based on account number\n",
        "for account in json_to_list :\n",
        "  acc_number = account['Loan Account Number']\n",
        "  di.add_node(acc_number)\n",
        "\n",
        "#Creating an edge so that 2 consecutive blocks are connected to each other in a chain :\n",
        "for i in range(len(json_to_list)-1):\n",
        "  present_account_numb = json_to_list[i]['Loan Account Number']\n",
        "  next_account_number = json_to_list[i+1]['Loan Account Number']\n",
        "  #Alotting weights for edges based on Loan Amount to reduce large values :\n",
        "  loan_amount = json_to_list[i]['Loan Amount']\n",
        "  weight = loan_amount/1000\n",
        "  di.add_edge(present_account_numb,next_account_number)\n",
        "  #Visualizing the blockchain with some layout edits :\n",
        "pos = nx.spring_layout(di)\n",
        "labels = nx.get_edge_attributes(di,'label') #lables for the blockchain\n",
        "labels_for_node = nx.get_node_attributes(di,'label') #lables for the nodes\n",
        "\n",
        "#Adding labels\n",
        "#Edge labels\n",
        "nx.draw(di, pos, node_color =\"red\", node_size = 10,alpha =0.8, font_size =7.5 )\n",
        "#Adding a title and plotting the blockchain network\n",
        "plt.title(\"Blockchain\", fontsize = 20)\n",
        "plt.show()"
      ]
    },
    {
      "cell_type": "code",
      "source": [],
      "metadata": {
        "id": "er5Mb3O0KCvy"
      },
      "execution_count": null,
      "outputs": []
    }
  ],
  "metadata": {
    "colab": {
      "provenance": [],
      "include_colab_link": true
    },
    "kernelspec": {
      "display_name": "Python 3",
      "name": "python3"
    },
    "language_info": {
      "name": "python"
    }
  },
  "nbformat": 4,
  "nbformat_minor": 0
}